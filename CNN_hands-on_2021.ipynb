{
 "cells": [
  {
   "cell_type": "markdown",
   "metadata": {
    "colab_type": "text",
    "id": "si6cLhP42iU6"
   },
   "source": [
    "# Lab 2: Convolutional Neural Network (CNN)"
   ]
  },
  {
   "cell_type": "markdown",
   "metadata": {
    "colab_type": "text",
    "id": "M7c5MFuE2iU9"
   },
   "source": [
    "\n",
    "\n",
    "\n",
    "In this laboratory we continue to work with Keras. We will focus on Convolutional Neural Network\n",
    "we are going to work with cifar10, a  dataset consisting of 60000 32x32 colour images in 10 classes, with 6000 images per class. There are 50000 training images and 10000 test images.\n",
    "Therefore the main goal of this laboratory is to solve a multiclass classification problem with 10 different classes\n",
    "\n",
    "<br><img src= \"https://drive.google.com/uc?export=view&id=1u-htQUPUm40h4HBBvg-JA5r0IfrRHqrq\" width=\"500px\" align=\"middle\"><br>)"
   ]
  },
  {
   "cell_type": "code",
   "execution_count": null,
   "metadata": {
    "colab": {
     "base_uri": "https://localhost:8080/",
     "height": 1000
    },
    "colab_type": "code",
    "executionInfo": {
     "elapsed": 18941,
     "status": "ok",
     "timestamp": 1590578710654,
     "user": {
      "displayName": "Nicoletta Noceti",
      "photoUrl": "",
      "userId": "00427744574778931345"
     },
     "user_tz": -120
    },
    "id": "vVAclqsq2iU_",
    "outputId": "4b4dba0a-037a-4ece-ea64-60030f95d39b"
   },
   "outputs": [],
   "source": [
    "# loading the dataset "
   ]
  },
  {
   "cell_type": "code",
   "execution_count": 1,
   "metadata": {
    "colab": {},
    "colab_type": "code",
    "id": "JnTmYxnF2iVG"
   },
   "outputs": [],
   "source": [
    "import numpy as np\n",
    "import tensorflow as tf \n",
    "import os\n",
    "new_im_size = 32\n",
    "channels = 3\n",
    "\n",
    "(train_X,train_Y),(test_X,test_Y) = tf.keras.datasets.cifar10.load_data()\n"
   ]
  },
  {
   "cell_type": "markdown",
   "metadata": {
    "colab_type": "text",
    "id": "916Qmf_V2iVM"
   },
   "source": [
    "# 2.1 Dataset pre-processing\n",
    "The first thing that we need to do when we are dealing with a new dataset is to operate some pre-processing operations. Data preprocessing usually refers to the steps applied to make data more suitable for learning. \n",
    "In this section we are going to deal with:\n",
    "\n",
    "* 2.1.1 Normalization\n",
    "* 2.1.2 Standardization\n",
    "* 2.1.3 Splitting and label preprocessing\n"
   ]
  },
  {
   "cell_type": "markdown",
   "metadata": {
    "colab_type": "text",
    "id": "Soapy9ma2iVU"
   },
   "source": [
    "## 2.1.1 Normalization\n",
    "One common practice in training a Neural Network is to normalize the images by dividing each pixel value by the maximum value that we can have, i.e. 255.<br>\n",
    "The purpose of this is to obtain a mean close to 0.<br>\n",
    "Normalizing the data generally speeds up learning and leads to faster convergence"
   ]
  },
  {
   "cell_type": "code",
   "execution_count": null,
   "metadata": {
    "colab": {
     "base_uri": "https://localhost:8080/",
     "height": 51
    },
    "colab_type": "code",
    "executionInfo": {
     "elapsed": 1284,
     "status": "ok",
     "timestamp": 1590578780026,
     "user": {
      "displayName": "Nicoletta Noceti",
      "photoUrl": "",
      "userId": "00427744574778931345"
     },
     "user_tz": -120
    },
    "id": "c1ar8l3i2iVU",
    "outputId": "a12c615b-acab-43cc-a82a-67a7993ecc28"
   },
   "outputs": [],
   "source": [
    "# Normalizing the data\n",
    "print(\"Normalizing training set..\")\n",
    "train_X = np.asarray(train_X, dtype=np.float32) / 255\t\t\t\t\t\t\t\t\t\t# Normalizing training set\n",
    "print(\"Normalizing test set..\")\n",
    "test_X = np.asarray(test_X, dtype=np.float32) / 255\t\t\t\t\t\t\t\t\t\t\t# Normalizing test set"
   ]
  },
  {
   "cell_type": "markdown",
   "metadata": {
    "colab_type": "text",
    "id": "ZDvbWAOK2iVX"
   },
   "source": [
    "## 2.1.3 Standardization\n",
    "Another common practice in data pre-processing is standardization.<br>\n",
    "The idea about standardization is to compute your dataset mean and standard deviation in order to subtract from every data point $x$ the dataset mean $\\mu$ and then divide by the standard deviation $\\sigma$.<br>\n",
    "That is to apply the following operation:<br>\n",
    "<img src=\"https://drive.google.com/uc?id=1rpuybw_fmI8XK38JQhWWxX2TOExBAV2V\" width=\"150px\"><br>\n",
    "The outcome of this operation is to obtain a distribution with mean equal to 0 and a standard deviation equal to 1.<br>\n",
    "By applying normalization to our data we are making the features more similar to each other and this usually makes the learning process easier.<br>\n",
    "To better understand that we can show an example of what happens after a standardization process is applied to a dataset:\n",
    "<img src=\"https://drive.google.com/uc?id=1wtqTW4hz8n8k7b7q0mUSzCc9X0npNUY2\" width=\"500px\" align=\"left\"><br>"
   ]
  },
  {
   "cell_type": "code",
   "execution_count": null,
   "metadata": {
    "colab": {},
    "colab_type": "code",
    "id": "_XUXSyyF2iVc"
   },
   "outputs": [],
   "source": [
    "# Standardizing the data\n",
    "def standardize_dataset(X):\n",
    "\timage_means = []\n",
    "\timage_stds = []\n",
    "\n",
    "\tfor image in X:\n",
    "\t\timage_means.append(np.mean(image))\t\t\t\t\t\t\t\t\t\t\t# Computing the image mean\n",
    "\t\timage_stds.append(np.std(image))\t\t\t\t\t\t\t\t\t\t\t# Computing the image standard deviation\n",
    "\n",
    "\tdataset_mean = np.mean(image_means)\t\t\t\t\t\t\t\t\t\t\t\t# Computing the dataset mean\n",
    "\tdataset_std = np.mean(image_stds)\t\t\t\t\t\t\t\t\t\t\t\t# Computing the dataset standard deviation\n",
    "\treturn [dataset_mean, dataset_std]\t\t\t\t\t# For every image we subtract to it the dataset mean and we divide by the dataset standard deviation\n"
   ]
  },
  {
   "cell_type": "code",
   "execution_count": null,
   "metadata": {
    "colab": {
     "base_uri": "https://localhost:8080/",
     "height": 51
    },
    "colab_type": "code",
    "executionInfo": {
     "elapsed": 2876,
     "status": "ok",
     "timestamp": 1590578789883,
     "user": {
      "displayName": "Nicoletta Noceti",
      "photoUrl": "",
      "userId": "00427744574778931345"
     },
     "user_tz": -120
    },
    "id": "zLXq4tbi2iVh",
    "outputId": "8d184bf7-559b-4020-9d56-8372a1fcfca5"
   },
   "outputs": [],
   "source": [
    "dataset_mean, dataset_std = standardize_dataset(train_X)\n",
    "print(\"Standardizing training set..\")\n",
    "train_X = (train_X-dataset_mean)/dataset_std\t\t\t\t\t\t\t\t\t\t\t\t# Standardizing the training set\n",
    "print(\"Standardizing test set..\")\n",
    "test_X = (test_X-dataset_mean)/dataset_std\t\t\t\t\t\t\t\t\t\t\t\t# Standardizing the test set"
   ]
  },
  {
   "cell_type": "markdown",
   "metadata": {
    "colab_type": "text",
    "id": "gDmQz5yE2iVk"
   },
   "source": [
    "## 2.1.4 Splitting and label preprocessing\n",
    "Now we just need to split our training set in orer to get the validation set and convert our labels to one-hot representation"
   ]
  },
  {
   "cell_type": "code",
   "execution_count": 2,
   "metadata": {
    "colab": {
     "base_uri": "https://localhost:8080/",
     "height": 51
    },
    "colab_type": "code",
    "executionInfo": {
     "elapsed": 2837,
     "status": "ok",
     "timestamp": 1590578794661,
     "user": {
      "displayName": "Nicoletta Noceti",
      "photoUrl": "",
      "userId": "00427744574778931345"
     },
     "user_tz": -120
    },
    "id": "CWSyCDI72iVl",
    "outputId": "271dc572-cb40-41ee-e3d6-95ea09a25fb0"
   },
   "outputs": [
    {
     "name": "stdout",
     "output_type": "stream",
     "text": [
      "Splitting training set to create validation set..\n",
      "40000\n",
      "40000\n"
     ]
    }
   ],
   "source": [
    "# Creating the validation set\n",
    "from sklearn.model_selection import train_test_split\n",
    "print(\"Splitting training set to create validation set..\")\n",
    "train_X, valid_X, train_Y, valid_Y = train_test_split(train_X, train_Y, test_size=0.2, random_state=13)\n",
    "\n",
    "# Converting labels to one-hot representation\n",
    "from tensorflow.keras.utils import to_categorical\n",
    "train_Y_one_hot = to_categorical(train_Y)\t\t\t\t\t\t# Converting training labels to one-hot representation\n",
    "valid_Y_one_hot = to_categorical(valid_Y)\t\t\t\t\t\t# Converting validation labels to one-hot representation\n",
    "test_Y_one_hot = to_categorical(test_Y)\t\t\t\t\t\t\t# Converting test labels to one-hot representation\n",
    "\n",
    "print(len(train_X))\n",
    "print(len(train_Y_one_hot))"
   ]
  },
  {
   "cell_type": "markdown",
   "metadata": {
    "colab_type": "text",
    "id": "dLIf2fS62iVn"
   },
   "source": [
    "# 2.2 Training a model from scratch\n",
    "Now that we have properly pre-processed our data, we are going to create a convolutional model in Keras. \n",
    "Usually a convolutional model is made by two subsequent part:\n",
    "* A convolutional part\n",
    "* A fully connected\n",
    "\n",
    "We can show an example of the general structure in the next picture:\n",
    "<img src=\"https://drive.google.com/uc?id=1duP8u9bs6ELNu4degUuYP4-YS1mBYn2O\" width=\"600px\"><br>\n",
    "\n",
    "Usually the convolutional part is made by some layers composed by\n",
    "* convolutional layer: performs a spatial convolution over images\n",
    "* pooling layer: used to reduce the output spatial dimension from $n$ to 1 by averaging the $n$ different value or considering the maximum between them \n",
    "* dropout layer: applied to a layer, consists of randomly \"dropping out\" (i.e. set to zero) a number of output features of the layer during training.\n",
    "\n",
    "The convolutional part produces its output and the fully connected part ties together the received information in order to solve the classification problem.\n",
    "Let us start with a shallow architecture with only 2 conv"
   ]
  },
  {
   "cell_type": "code",
   "execution_count": 15,
   "metadata": {
    "colab": {
     "base_uri": "https://localhost:8080/",
     "height": 493
    },
    "colab_type": "code",
    "executionInfo": {
     "elapsed": 2968,
     "status": "ok",
     "timestamp": 1590579257003,
     "user": {
      "displayName": "Nicoletta Noceti",
      "photoUrl": "",
      "userId": "00427744574778931345"
     },
     "user_tz": -120
    },
    "id": "2SQ6lArz2iVo",
    "outputId": "b5311848-0cf1-4025-cea6-cd32441e8389"
   },
   "outputs": [
    {
     "name": "stdout",
     "output_type": "stream",
     "text": [
      "10\n",
      "Model: \"sequential_3\"\n",
      "_________________________________________________________________\n",
      "Layer (type)                 Output Shape              Param #   \n",
      "=================================================================\n",
      "conv2d_14 (Conv2D)           (None, 32, 32, 32)        896       \n",
      "_________________________________________________________________\n",
      "conv2d_15 (Conv2D)           (None, 32, 32, 32)        9248      \n",
      "_________________________________________________________________\n",
      "max_pooling2d_7 (MaxPooling2 (None, 16, 16, 32)        0         \n",
      "_________________________________________________________________\n",
      "flatten_3 (Flatten)          (None, 8192)              0         \n",
      "_________________________________________________________________\n",
      "dense_6 (Dense)              (None, 128)               1048704   \n",
      "_________________________________________________________________\n",
      "dense_7 (Dense)              (None, 10)                1290      \n",
      "=================================================================\n",
      "Total params: 1,060,138\n",
      "Trainable params: 1,060,138\n",
      "Non-trainable params: 0\n",
      "_________________________________________________________________\n"
     ]
    }
   ],
   "source": [
    "# Creating the model from scratch\n",
    "import tensorflow.keras\n",
    "from tensorflow.keras import Sequential,Input,Model\n",
    "from tensorflow.keras.layers import Dense, Dropout, Flatten\n",
    "from tensorflow.keras.layers import Conv2D, MaxPooling2D\n",
    "from tensorflow.keras.layers import BatchNormalization\n",
    "from tensorflow.keras.layers import LeakyReLU\n",
    "from sklearn.metrics import accuracy_score\n",
    "\n",
    "# Network parameters\n",
    "batch_size = 64\t\t\t\t\t\t\t\t\t\t\t\t\t# Setting the batch size\n",
    "epochs = 10\t\t\t\t\t\t\t\t\t\t\t\t\t\t# Setting the number of epochs\n",
    "num_classes = 10\t\t\t\t\t\t\t\t\t# Getting the amount of classes\n",
    "print(num_classes)\n",
    "scratch_model = Sequential()\t\n",
    "\n",
    "# Build here your keras model.\n",
    "# You can try to use one or more convolutional layer, joint with pooling layer and dropout layer\n",
    "\n",
    "scratch_model.add(Conv2D(32, (3, 3), activation='relu', kernel_initializer='he_uniform', padding='same', input_shape=(32, 32, 3)))\n",
    "scratch_model.add(Conv2D(32, (3, 3), activation='relu', kernel_initializer='he_uniform', padding='same'))\n",
    "\n",
    "# pooling layer \n",
    "scratch_model.add(MaxPooling2D((2, 2)))\n",
    "\n",
    "#flatten the features for fully-connected layers of our network \n",
    "scratch_model.add(Flatten())\n",
    "\n",
    "# Adding the dense final part\n",
    "scratch_model.add(Dense(128, activation='relu', kernel_initializer='he_uniform'))\n",
    "scratch_model.add(Dense(10, activation='softmax'))\n",
    "\n",
    "\n",
    "# Compile the model with the Adam optimizer\n",
    "scratch_model.compile(loss=tensorflow.keras.losses.categorical_crossentropy, optimizer=tensorflow.keras.optimizers.Adam(),metrics=['accuracy'])\n",
    "\n",
    "# Visualize the model through the summary function\n",
    "scratch_model.summary()"
   ]
  },
  {
   "cell_type": "code",
   "execution_count": 16,
   "metadata": {
    "colab": {
     "base_uri": "https://localhost:8080/",
     "height": 394
    },
    "colab_type": "code",
    "executionInfo": {
     "elapsed": 66096,
     "status": "ok",
     "timestamp": 1590579326441,
     "user": {
      "displayName": "Nicoletta Noceti",
      "photoUrl": "",
      "userId": "00427744574778931345"
     },
     "user_tz": -120
    },
    "id": "azjgug3Q2iVs",
    "outputId": "e103ae7e-3f19-4e86-c09e-daad5e1bbcc6"
   },
   "outputs": [
    {
     "name": "stdout",
     "output_type": "stream",
     "text": [
      "Epoch 1/10\n",
      "625/625 [==============================] - 4s 6ms/step - loss: 27.2777 - accuracy: 0.2670 - val_loss: 1.7774 - val_accuracy: 0.3639\n",
      "Epoch 2/10\n",
      "625/625 [==============================] - 4s 6ms/step - loss: 1.6962 - accuracy: 0.3973 - val_loss: 1.7524 - val_accuracy: 0.3948\n",
      "Epoch 3/10\n",
      "625/625 [==============================] - 4s 6ms/step - loss: 1.5062 - accuracy: 0.4629 - val_loss: 1.6318 - val_accuracy: 0.4351\n",
      "Epoch 4/10\n",
      "625/625 [==============================] - 4s 6ms/step - loss: 1.3437 - accuracy: 0.5235 - val_loss: 1.5969 - val_accuracy: 0.4560\n",
      "Epoch 5/10\n",
      "625/625 [==============================] - 4s 6ms/step - loss: 1.1923 - accuracy: 0.5780 - val_loss: 1.6707 - val_accuracy: 0.4619\n",
      "Epoch 6/10\n",
      "625/625 [==============================] - 4s 6ms/step - loss: 1.0580 - accuracy: 0.6245 - val_loss: 1.6992 - val_accuracy: 0.4694\n",
      "Epoch 7/10\n",
      "625/625 [==============================] - 4s 6ms/step - loss: 0.9431 - accuracy: 0.6708 - val_loss: 1.8897 - val_accuracy: 0.4707\n",
      "Epoch 8/10\n",
      "625/625 [==============================] - 4s 6ms/step - loss: 0.8217 - accuracy: 0.7099 - val_loss: 1.9535 - val_accuracy: 0.4657\n",
      "Epoch 9/10\n",
      "625/625 [==============================] - 4s 6ms/step - loss: 0.7235 - accuracy: 0.7456 - val_loss: 2.1577 - val_accuracy: 0.4652\n",
      "Epoch 10/10\n",
      "625/625 [==============================] - 4s 6ms/step - loss: 0.6509 - accuracy: 0.7734 - val_loss: 2.2684 - val_accuracy: 0.4692\n"
     ]
    }
   ],
   "source": [
    "# Let's train the model!\n",
    "scratch_model_history = scratch_model.fit(train_X, train_Y_one_hot, batch_size=batch_size, shuffle=True, epochs=epochs, validation_data=(valid_X, valid_Y_one_hot))"
   ]
  },
  {
   "cell_type": "code",
   "execution_count": 17,
   "metadata": {
    "colab": {
     "base_uri": "https://localhost:8080/",
     "height": 34
    },
    "colab_type": "code",
    "executionInfo": {
     "elapsed": 1337,
     "status": "ok",
     "timestamp": 1590579158311,
     "user": {
      "displayName": "Nicoletta Noceti",
      "photoUrl": "",
      "userId": "00427744574778931345"
     },
     "user_tz": -120
    },
    "id": "VbPMcLKV2iVy",
    "outputId": "2dcb3847-2466-4b54-bd0c-22b5545ea757"
   },
   "outputs": [
    {
     "name": "stdout",
     "output_type": "stream",
     "text": [
      "Test accuracy:  0.4656\n"
     ]
    }
   ],
   "source": [
    "# Getting the results\n",
    "scratch_model_train_acc = scratch_model_history.history['accuracy']\n",
    "scratch_model_valid_acc = scratch_model_history.history['val_accuracy']\n",
    "scratch_model_train_loss = scratch_model_history.history['loss']\n",
    "scratch_model_valid_loss = scratch_model_history.history['val_loss']\n",
    "\n",
    "print(\"Test accuracy: \", accuracy_score(scratch_model.predict_classes(test_X), test_Y))\t\t\t# Testing the model"
   ]
  },
  {
   "cell_type": "markdown",
   "metadata": {
    "colab_type": "text",
    "id": "TWiB0JKK2iV1"
   },
   "source": [
    "**Is the obtained value coherent with what you expected?**<br>\n",
    "**What are the differences when using a different batch size? Why?**"
   ]
  },
  {
   "cell_type": "markdown",
   "metadata": {},
   "source": [
    "**Try to make the network deeper, adding more Conv and Pooling layers. Do the performances improve? "
   ]
  },
  {
   "cell_type": "code",
   "execution_count": 7,
   "metadata": {},
   "outputs": [
    {
     "name": "stdout",
     "output_type": "stream",
     "text": [
      "Model: \"sequential_2\"\n",
      "_________________________________________________________________\n",
      "Layer (type)                 Output Shape              Param #   \n",
      "=================================================================\n",
      "conv2d_8 (Conv2D)            (None, 32, 32, 32)        896       \n",
      "_________________________________________________________________\n",
      "conv2d_9 (Conv2D)            (None, 32, 32, 32)        9248      \n",
      "_________________________________________________________________\n",
      "max_pooling2d_4 (MaxPooling2 (None, 16, 16, 32)        0         \n",
      "_________________________________________________________________\n",
      "conv2d_10 (Conv2D)           (None, 16, 16, 64)        18496     \n",
      "_________________________________________________________________\n",
      "conv2d_11 (Conv2D)           (None, 16, 16, 64)        36928     \n",
      "_________________________________________________________________\n",
      "max_pooling2d_5 (MaxPooling2 (None, 8, 8, 64)          0         \n",
      "_________________________________________________________________\n",
      "conv2d_12 (Conv2D)           (None, 8, 8, 128)         73856     \n",
      "_________________________________________________________________\n",
      "conv2d_13 (Conv2D)           (None, 8, 8, 128)         147584    \n",
      "_________________________________________________________________\n",
      "max_pooling2d_6 (MaxPooling2 (None, 4, 4, 128)         0         \n",
      "_________________________________________________________________\n",
      "flatten_2 (Flatten)          (None, 2048)              0         \n",
      "_________________________________________________________________\n",
      "dense_4 (Dense)              (None, 128)               262272    \n",
      "_________________________________________________________________\n",
      "dense_5 (Dense)              (None, 10)                1290      \n",
      "=================================================================\n",
      "Total params: 550,570\n",
      "Trainable params: 550,570\n",
      "Non-trainable params: 0\n",
      "_________________________________________________________________\n"
     ]
    }
   ],
   "source": [
    "deeper_model = Sequential()\n",
    "\n",
    "deeper_model.add(Conv2D(32, (3, 3), activation='relu', kernel_initializer='he_uniform', padding='same', input_shape=(32, 32, 3)))\n",
    "deeper_model.add(Conv2D(32, (3, 3), activation='relu', kernel_initializer='he_uniform', padding='same'))\n",
    "deeper_model.add(MaxPooling2D((2, 2)))\n",
    "\n",
    "\n",
    "\n",
    "#add convolutional layers here \n",
    "\n",
    "\n",
    "\n",
    "# add fully connected layers for classification \n",
    "\n",
    "# compile model\n",
    "deeper_model.compile(loss=tensorflow.keras.losses.categorical_crossentropy, optimizer=tensorflow.keras.optimizers.Adam(),metrics=['accuracy'])\n",
    "\n",
    "deeper_model.summary()"
   ]
  },
  {
   "cell_type": "code",
   "execution_count": 8,
   "metadata": {},
   "outputs": [
    {
     "name": "stdout",
     "output_type": "stream",
     "text": [
      "Epoch 1/10\n",
      "625/625 [==============================] - 6s 10ms/step - loss: 7.1947 - accuracy: 0.3625 - val_loss: 1.5627 - val_accuracy: 0.4353\n",
      "Epoch 2/10\n",
      "625/625 [==============================] - 6s 10ms/step - loss: 1.3952 - accuracy: 0.4982 - val_loss: 1.3241 - val_accuracy: 0.5364\n",
      "Epoch 3/10\n",
      "625/625 [==============================] - 6s 10ms/step - loss: 1.2355 - accuracy: 0.5596 - val_loss: 1.1878 - val_accuracy: 0.5833\n",
      "Epoch 4/10\n",
      "625/625 [==============================] - 6s 10ms/step - loss: 1.1156 - accuracy: 0.6042 - val_loss: 1.1650 - val_accuracy: 0.5845\n",
      "Epoch 5/10\n",
      "625/625 [==============================] - 6s 10ms/step - loss: 1.0248 - accuracy: 0.6375 - val_loss: 1.1218 - val_accuracy: 0.6104\n",
      "Epoch 6/10\n",
      "625/625 [==============================] - 6s 10ms/step - loss: 0.9421 - accuracy: 0.6701 - val_loss: 1.1036 - val_accuracy: 0.6229\n",
      "Epoch 7/10\n",
      "625/625 [==============================] - 6s 10ms/step - loss: 0.8820 - accuracy: 0.6903 - val_loss: 1.0776 - val_accuracy: 0.6340\n",
      "Epoch 8/10\n",
      "625/625 [==============================] - 6s 10ms/step - loss: 0.8247 - accuracy: 0.7098 - val_loss: 0.9977 - val_accuracy: 0.6587\n",
      "Epoch 9/10\n",
      "625/625 [==============================] - 6s 10ms/step - loss: 0.7580 - accuracy: 0.7338 - val_loss: 1.0661 - val_accuracy: 0.6515\n",
      "Epoch 10/10\n",
      "625/625 [==============================] - 6s 10ms/step - loss: 0.7121 - accuracy: 0.7506 - val_loss: 0.9681 - val_accuracy: 0.6742\n"
     ]
    }
   ],
   "source": [
    "deeper_model_history = deeper_model.fit(train_X, train_Y_one_hot, batch_size=batch_size, shuffle=True, epochs=epochs, validation_data=(valid_X, valid_Y_one_hot))"
   ]
  },
  {
   "cell_type": "code",
   "execution_count": 10,
   "metadata": {},
   "outputs": [
    {
     "name": "stdout",
     "output_type": "stream",
     "text": [
      "WARNING:tensorflow:From <ipython-input-10-cc6763a17549>:6: Sequential.predict_classes (from tensorflow.python.keras.engine.sequential) is deprecated and will be removed after 2021-01-01.\n",
      "Instructions for updating:\n",
      "Please use instead:* `np.argmax(model.predict(x), axis=-1)`,   if your model does multi-class classification   (e.g. if it uses a `softmax` last-layer activation).* `(model.predict(x) > 0.5).astype(\"int32\")`,   if your model does binary classification   (e.g. if it uses a `sigmoid` last-layer activation).\n",
      "Test accuracy:  0.6697\n"
     ]
    }
   ],
   "source": [
    "# Getting the results\n",
    "deeper_model_train_acc = deeper_model_history.history['accuracy']\n",
    "deeper_model_valid_acc = deeper_model_history.history['val_accuracy']\n",
    "deeper_model_train_loss = deeper_model_history.history['loss']\n",
    "deeper_model_valid_loss = deeper_model_history.history['val_loss']\n",
    "print(\"Test accuracy: \", accuracy_score(deeper_model.predict_classes(test_X), test_Y))\t\t\t# Testing the model"
   ]
  },
  {
   "cell_type": "markdown",
   "metadata": {
    "colab_type": "text",
    "id": "IkRwEUtQ2iV1"
   },
   "source": [
    "# 2.3 Data Augmentation\n",
    "Before even starting to load the dataset we should ask ourself whether the available amount of data is sufficient to our purposes.<br>\n",
    "When the answer is negative we could need to do \"data augmentation\".<br>\n",
    "Doing data augmentation means to increase the number of available data points. In terms of images, it may mean that increasing the number of images in the dataset. A common way to do this is to generate new images by applying a linear transformation to the original images in the dataset.<br>\n",
    "The most common linear transformations are the following:<br>\n",
    "* Rotation\n",
    "* Shifting\n",
    "* Blurring\n",
    "* Change lighting conditions\n",
    "\n",
    "In the picture below we show an example of augmentation:<br>\n",
    "<img src=\"https://drive.google.com/uc?id=1B74snda_oJKkhVzxch9Ov8Y1XL63U3w5\" width=\"600px\" align=\"left\"><br>"
   ]
  },
  {
   "cell_type": "code",
   "execution_count": null,
   "metadata": {
    "colab": {},
    "colab_type": "code",
    "id": "dU3jpQx12iV2"
   },
   "outputs": [],
   "source": [
    "# Data augmentation\n",
    "# The augm_factor determine the copy amount created from every single image\n",
    "from tensorflow.keras.preprocessing.image import ImageDataGenerator\n",
    "datagen_train = ImageDataGenerator(width_shift_range=0.1, height_shift_range=0.1,rotation_range=45, horizontal_flip=True)\n",
    "(train_X,train_Y),(test_X,test_Y) = tf.keras.datasets.cifar10.load_data()\n",
    "# Normalizing the data\n",
    "print(\"Normalizing training set..\")\n",
    "train_X = np.asarray(train_X, dtype=np.float32) / 255\t\t\t\t\t\t\t\t\t\t# Normalizing training set\n",
    "print(\"Normalizing test set..\")\n",
    "test_X = np.asarray(test_X, dtype=np.float32) / 255\t\t\t\t\t\t\t\t\t\t\t# Normalizing test set\n",
    "batch_size = 64\t\t\t\t\t\t\t\t\t\t\t\t\t# Setting the batch size\n",
    "epochs = 5\t\t\t\t\t\t\t\t\t\t\t\t\t\t# Setting the number of epochs\n",
    "num_classes = 10\n",
    "# Creating the validation set\n",
    "from sklearn.model_selection import train_test_split\n",
    "print(\"Splitting training set to create validation set..\")\n",
    "train_X, valid_X, train_Y, valid_Y = train_test_split(train_X, train_Y, test_size=0.2, random_state=13)\n",
    "\n",
    "# Converting labels to one-hot representation\n",
    "from tensorflow.keras.utils import to_categorical\n",
    "train_Y_one_hot = to_categorical(train_Y)\t\t\t\t\t\t# Converting training labels to one-hot representation\n",
    "valid_Y_one_hot = to_categorical(valid_Y)\t\t\t\t\t\t# Converting validation labels to one-hot representation\n",
    "test_Y_one_hot = to_categorical(test_Y)\t\t\t\t\t\t\t# Converting test labels to one-hot representation\n",
    "print(len(train_X))\n",
    "print(len(train_Y_one_hot))\n",
    "train = datagen_train.flow(train_X,train_Y_one_hot, batch_size=batch_size)\n",
    "\n"
   ]
  },
  {
   "cell_type": "markdown",
   "metadata": {
    "colab_type": "text",
    "id": "i4HmIwcZ2iWK"
   },
   "source": [
    "Now try to build a new model dealing with the augmented dataset."
   ]
  },
  {
   "cell_type": "code",
   "execution_count": null,
   "metadata": {},
   "outputs": [],
   "source": [
    "deeper_model.fit_generator(train,steps_per_epoch = int(train_X.shape[0]/batch_size),shuffle=True, epochs=epochs, validation_data=(valid_X, valid_Y_one_hot))"
   ]
  },
  {
   "cell_type": "code",
   "execution_count": 14,
   "metadata": {},
   "outputs": [
    {
     "name": "stdout",
     "output_type": "stream",
     "text": [
      "Test accuracy:  0.6697\n"
     ]
    }
   ],
   "source": [
    "# Getting the results\n",
    "deeper_model_train_acc = deeper_model_history.history['accuracy']\n",
    "deeper_model_valid_acc = deeper_model_history.history['val_accuracy']\n",
    "deeper_model_train_loss = deeper_model_history.history['loss']\n",
    "deeper_model_valid_loss = deeper_model_history.history['val_loss']\n",
    "print(\"Test accuracy: \", accuracy_score(deeper_model.predict_classes(test_X), test_Y))\t"
   ]
  },
  {
   "cell_type": "markdown",
   "metadata": {
    "colab_type": "text",
    "id": "ZEQiqXC42iWP"
   },
   "source": [
    "**What is the performance obtained on this new augmented dataset?**<br>\n",
    "**How can you explain the obtained result?**"
   ]
  },
  {
   "cell_type": "markdown",
   "metadata": {
    "colab_type": "text",
    "id": "s3_XbZQg2iWQ"
   },
   "source": [
    "# 2.4 Using a pre-trained model\n",
    "A common alternative to train a model from scratch consists in using a pre-trained model.<br>\n",
    "The idea is to replace the convolutional part with a highly optimized convolutional part engineered and trained previously by someone else.<br>\n",
    "Usually the models that we can use through keras.applications have been trained over the image net dataset. <br>\n",
    "Today we are going to use the Xception Net model. Its architecture it is shown below:\n",
    "<img src=\"https://drive.google.com/uc?id=1eKivBCSKnWKyBxmGe5s64oOyhzhuCaqU\" width=\"600px\"><br>\n",
    "After the convolutional part replacement we still need to set up a fully connected part.<br>\n",
    "**Why in this lab we cannot use the fully connected part of Xception Net?<br>\n",
    "What should we do to use it?<br>\n",
    "And more in general in which situations we can do that?**\n",
    "\n",
    "Moreover, using a pre-trained network is not always the best choice<br>\n",
    "**Can you guess in which situations could be useful to use a pre-trained model?**"
   ]
  },
  {
   "cell_type": "code",
   "execution_count": null,
   "metadata": {
    "colab": {},
    "colab_type": "code",
    "id": "nc8dz23k2iWR"
   },
   "outputs": [],
   "source": [
    "# Creating the model based over the pretrained Xception network\n",
    "from tensorflow.keras import applications\n",
    "import tensorflow\n",
    "from tensorflow.keras import models\n",
    "from tensorflow.keras import layers\n",
    "from tensorflow.keras import optimizers\n",
    "model = models.Sequential()\n",
    "\n",
    "model.add(tensorflow.keras.layers.UpSampling2D(size=(7,7),input_shape=(32,32,3)))\n",
    "\n",
    "Xception_model = applications.Xception(weights = \"imagenet\", include_top=False, input_shape = (224, 224, channels))\n",
    "\n",
    "for layer in Xception_model.layers:\n",
    "    layer.trainable = False\n",
    "    \n",
    "Inputs = layers.Input(shape=(32,32,3))\n",
    "x = model(Inputs)\n",
    "x = Xception_model(x)\n",
    "x = layers.Flatten()(x)\n",
    "# let's add a fully-connected layer\n",
    "x = layers.Dense(128, activation='relu')(x)\n",
    "# and a logistic layer -- let's say we have 200 classes\n",
    "predictions = layers.Dense(10, activation='softmax')(x)\n",
    "\n",
    "# this is the model we will train\n",
    "pre_trained_model = tensorflow.keras.Model(Inputs, outputs=predictions)\n",
    "pre_trained_model.compile(loss=tensorflow.keras.losses.categorical_crossentropy, optimizer=tensorflow.keras.optimizers.Adam(),metrics=['accuracy'])"
   ]
  },
  {
   "cell_type": "code",
   "execution_count": null,
   "metadata": {
    "colab": {},
    "colab_type": "code",
    "id": "kyHEx6bS2iWU"
   },
   "outputs": [],
   "source": [
    "# Visualize the model through the summary function\n",
    "pre_trained_model.summary()"
   ]
  },
  {
   "cell_type": "code",
   "execution_count": null,
   "metadata": {
    "colab": {},
    "colab_type": "code",
    "id": "E1Dkp9ix2iWX"
   },
   "outputs": [],
   "source": [
    "# Let's train the model!\n",
    "pretrained_model_history = pre_trained_model.fit(train_X, train_Y_one_hot, epochs=epochs, batch_size=batch_size, validation_data=(valid_X, valid_Y_one_hot))"
   ]
  },
  {
   "cell_type": "code",
   "execution_count": null,
   "metadata": {
    "colab": {},
    "colab_type": "code",
    "id": "WJaZdXQT2iWb"
   },
   "outputs": [],
   "source": [
    "# Getting the results\n",
    "pretrained_model_train_acc = pretrained_model_history.history['acc']\n",
    "pretrained_model_valid_acc = pretrained_model_history.history['val_acc']\n",
    "pretrained_model_train_loss = pretrained_model_history.history['loss']\n",
    "pretrained_model_valid_loss = pretrained_model_history.history['val_loss']\n",
    "\n",
    "test_X_feature = pre_trained_model.predict(test_X)\t\t\t\t\t\t# Producing the test feature\n",
    "print(\"Test accuracy: \", accuracy_score(pretrained_model.predict_classes(test_X_feature), test_Y)) # Testing the model"
   ]
  },
  {
   "cell_type": "markdown",
   "metadata": {
    "colab_type": "text",
    "id": "o_2_LXsy2iWg"
   },
   "source": [
    "# 2.5 Comparing the models\n",
    "\n",
    "Now that we trained both the \"from scratch\" and the \"pre-trained\" models, we are going to compare the obtained results obtained during the training. We are going to consider accuracy and loss.<br>\n",
    "**What can you expect from these plots?**"
   ]
  },
  {
   "cell_type": "code",
   "execution_count": 19,
   "metadata": {
    "colab": {},
    "colab_type": "code",
    "id": "vovtvdUg2iWh",
    "scrolled": true
   },
   "outputs": [
    {
     "name": "stdout",
     "output_type": "stream",
     "text": [
      "Producing accuracy over epochs plot\n",
      "Producing loss over epochs plot\n"
     ]
    },
    {
     "data": {
      "image/png": "[encoded data removed]",
      "text/plain": [
       "<Figure size 1152x504 with 1 Axes>"
      ]
     },
     "metadata": {
      "needs_background": "light"
     },
     "output_type": "display_data"
    },
    {
     "data": {
      "image/png": "[encoded data removed]",
      "text/plain": [
       "<Figure size 1152x504 with 1 Axes>"
      ]
     },
     "metadata": {
      "needs_background": "light"
     },
     "output_type": "display_data"
    }
   ],
   "source": [
    "# Create here the plots to compare the \"from scratch\" model and the \"pretrained\" model\n",
    "# Try to produce a comparison plot about the accuracies (train and validation) and another plot for the losses\n",
    "# Creating the plots to compare the \"from scratch\" model and the \"pretrained\" model\n",
    "# Producing accuracy over epochs plot\n",
    "print(\"Producing accuracy over epochs plot\")\n",
    "import matplotlib.pyplot as plt\n",
    "fig = plt.figure(figsize=(16,7))\n",
    "\n",
    "plt.plot(scratch_model_train_acc, label=\"Scratch Train Acc.\", color=\"#4db8ff\")\n",
    "plt.plot(scratch_model_valid_acc, label=\"Scratch Valid. Acc.\", color=\"#006bb3\")\n",
    "\n",
    "plt.plot(deeper_model_train_acc, label=\"Deeper Train Acc.\", color=\"#ff4d4d\")\n",
    "plt.plot(deeper_model_valid_acc, label=\"Deeper Valid. Acc.\", color=\"#b30000\")\n",
    "\n",
    "plt.xlabel('Epoch')\n",
    "plt.ylabel('Accuracy(%)')\n",
    "plt.legend(loc='lower right', fancybox=True, shadow=True, ncol=4)\n",
    "plt.grid()\n",
    "plt.savefig('acc_epochs.png', dpi=300)\n",
    "\n",
    "\n",
    "# Producing loss over epochs plot\n",
    "print(\"Producing loss over epochs plot\")\n",
    "fig = plt.figure(figsize=(16,7))\n",
    "\n",
    "plt.plot(scratch_model_train_loss, label=\"Scratch Train Loss\", color=\"#4db8ff\")\n",
    "plt.plot(scratch_model_valid_loss, label=\"Scratch Valid. Loss\", color=\"#006bb3\")\n",
    "\n",
    "plt.plot(deeper_model_train_loss, label=\"Deeper Train Loss\", color=\"#ff4d4d\")\n",
    "plt.plot(deeper_model_valid_loss, label=\"Deeper Valid. Loss\", color=\"#b30000\")\n",
    "\n",
    "plt.xlabel('Epoch')\n",
    "plt.ylabel('Loss')\n",
    "plt.legend(loc='upper right', fancybox=True, shadow=True, ncol=4)\n",
    "plt.grid()\n",
    "plt.savefig('loss_epochs.png', dpi=300)\n",
    "\n",
    "plt.show()\n",
    "\n",
    "\n",
    "\n",
    "\n"
   ]
  },
  {
   "cell_type": "markdown",
   "metadata": {
    "colab_type": "text",
    "id": "bszQNCEz2iWq"
   },
   "source": [
    "**What information can you get from these plots?**<br>\n",
    "**Try to visualize the differences between the deeper model and the pre-trained xception model!\n",
    "**Are they showing what you expected?**"
   ]
  }
 ],
 "metadata": {
  "accelerator": "GPU",
  "colab": {
   "name": "CNN_complete.ipynb",
   "provenance": []
  },
  "kernelspec": {
   "display_name": "Python 3",
   "language": "python",
   "name": "python3"
  },
  "language_info": {
   "codemirror_mode": {
    "name": "ipython",
    "version": 3
   },
   "file_extension": ".py",
   "mimetype": "text/x-python",
   "name": "python",
   "nbconvert_exporter": "python",
   "pygments_lexer": "ipython3",
   "version": "3.7.0"
  }
 },
 "nbformat": 4,
 "nbformat_minor": 1
}
